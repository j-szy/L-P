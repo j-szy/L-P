{
  "metadata": {
    "kernelspec": {
      "name": "python",
      "display_name": "Python (Pyodide)",
      "language": "python"
    },
    "language_info": {
      "codemirror_mode": {
        "name": "python",
        "version": 3
      },
      "file_extension": ".py",
      "mimetype": "text/x-python",
      "name": "python",
      "nbconvert_exporter": "python",
      "pygments_lexer": "ipython3",
      "version": "3.8"
    }
  },
  "nbformat_minor": 4,
  "nbformat": 4,
  "cells": [
    {
      "cell_type": "markdown",
      "source": "## 1.0 Python Syntax\n\nprint statements\nkeywords",
      "metadata": {}
    },
    {
      "cell_type": "markdown",
      "source": "## 2.0 Data Types",
      "metadata": {}
    },
    {
      "cell_type": "markdown",
      "source": "In programming, one of the most important concepts are data types. Depending on the data we are working with, there are different types of data that we are going to encounter, and different data types can be used for to do different things.\nIn Python, there are a number of different data types. The most important ones are:\n\nstr - str stands for string and is used to store text. If we want to use hello as a string, it is important that we type the string between \"\" -> \"hello\". Now we have a hello string. A string can include numbers, letters or other characters, as long as we type the string between \" \". We can even leave it blank and not type anything in between \" \".\n\nint - int stands for integer and is used to store whole number that can be positive, negative or zero. An integer cannot be a fractional number. \n\nfloat - a float is a decimal or fractiona number, for example 22.5.\n\nbool - bool stands for boolean. This is a very interesting data type, because it can only hold one of two different values - either true or false. We will learn more about boolean variables and \n        what this data type is used for in the module for Loops.\n\nlist - lists can be used to store multiple items in one single variable. Lists are created by using square brackets , for example myList = [ ]. We will look at lists in more detail in the Lists\n        module.\n",
      "metadata": {}
    },
    {
      "cell_type": "markdown",
      "source": "Coding excercise:\n\n",
      "metadata": {}
    },
    {
      "cell_type": "code",
      "source": "",
      "metadata": {},
      "outputs": [],
      "execution_count": null
    },
    {
      "cell_type": "markdown",
      "source": "## 3.0 Variables",
      "metadata": {}
    },
    {
      "cell_type": "markdown",
      "source": "If we want to store data values, we can use variables. Variables act like containers and can store data. For example, we can create a variable y and assign the value 5 to it, y = 5. y now has the value 5, so if we print y by calling print(y), the output will be 5.\n\nIf we want to change the value assigned to a variable, we can overwrite it by assigning a new value to it. y = 6 will now assign 6 to y, and overwrite y = 5. So if we print y by calling print (y), the output is now 6.\n\nA variable can be a string, a float, an integer, a list or another data type.",
      "metadata": {}
    },
    {
      "cell_type": "markdown",
      "source": "Coding excercise:\n1. Create a variable that holds your name as a string and print out the variable.",
      "metadata": {}
    },
    {
      "cell_type": "code",
      "source": "",
      "metadata": {},
      "outputs": [],
      "execution_count": null
    },
    {
      "cell_type": "markdown",
      "source": "## 4.0 Lists",
      "metadata": {}
    },
    {
      "cell_type": "markdown",
      "source": "Lists are a data type in Python and can be used to store multiple items in a single variable. Lists are created by using square brackets [] and listing the items on the list, for example myList = [\"apple\", \"banana\", \"cherry\"]. It is important that the items in the list are listed in between \" \". We can separate the items in the list through a comma. There is no limit to the number of items we can have in the list, and we can even delete or add items to the list later.\nA list is always ordered, which means that the order will not change. If we add items to our list, they will be placed at the end of the list. A list also allows for duplicates, which means that we can add the same item to the list twice.\nIf we want to print our list, we call a print statement followed by our list, for example print(myList). This will print the content of the list.\n\nWe can also add more items to the list by appending them through myList.append(\"Orange\"). This will add \"Orange\" to the myList list. We now have a list myList = [\"apple\", \"banana\", \"cherry\", \"orange\"]\n\nAll lists in Python are indexed, which means that each item has an index number. The first item has index[0],the second item has index[1]. \nWe can also print items that are located at a specific index. Remember, the first item in the list has index[0], so if we want to retrieve the first item in the list, we can call myList[0], which will return \"apple\".\nIf we want to print the result, we create a print statement and include the list and index, for example print(myList[0]).\n\nCan you tell what print(myList[2]) will print?\n\nNow we can add items to the list, print the list and even print the items for specific indices, but when working with lists, we will also need to be able to delete items from a list.\nTo delete items from a list, we call remove on our list and include the item that we want to remove, for example myList.remove(\"apple\")\nIf we now print the list again, you will notice that apple has been removed. \nIf you now call print(myList[0]), what do you think is going to happen?\n\nIn some cases, we might want to remove an item at a specific index, rather than the item name. In this case, we can call pop on our list and include the index number, for example myList.pop(0), which will remove the first item in the list.\nIf we dont specifiy pop and just call myList.pop(), this will automatically remove the last item in the list.\n\nIn some cases, we might want to delete the entire list. We can do this by calling del myList. But be careful - this does not only remove the items, it deletes the entire list so it no longer exists. If we want to work with the list again, we will have to re-create it.\n\nBefore deleting a list, it might be better to clear it instead. This will remove all items from the list, but the list still exists - as an empty list.\nTo clear a list (and remove all items at the same time), we call clear on our list, for example myList.clear(). If we have a long list and want to remove all items, this is much quicker than removing each item one by one.",
      "metadata": {}
    },
    {
      "cell_type": "markdown",
      "source": "There is another type of list in Python, called Tuple. A tuple can also be used to store multiple items in a single variable and is created by using round brackets (), for example myTuple = (\"apple, \"banana\", \"cherry). The difference between a list and a tuple is that a tuple  cannot be changed, so once we have created it, we cannot add or delete any items to or from it. Lists are more commonly used, so we will focus on lists in our coding excercises.\n",
      "metadata": {}
    },
    {
      "cell_type": "markdown",
      "source": "Coding excercise: \n1. Create a list that includes 6 items for grocery shopping.\n2. Can you print out the list?\n3. Add 3 more items to the list.\n4. Delete items at index[2] and index [4].\n5. Print the list again. What do you notice? Is this what you had expected to happen?",
      "metadata": {}
    },
    {
      "cell_type": "code",
      "source": "",
      "metadata": {},
      "outputs": [],
      "execution_count": null
    },
    {
      "cell_type": "markdown",
      "source": "## 5.0 Functions and Input Parameters",
      "metadata": {}
    },
    {
      "cell_type": "markdown",
      "source": "## 6.0 Loops/If-else",
      "metadata": {}
    },
    {
      "cell_type": "markdown",
      "source": "## 7.0 JSON ",
      "metadata": {}
    },
    {
      "cell_type": "markdown",
      "source": "## 8.0 Creating Graphs",
      "metadata": {}
    },
    {
      "cell_type": "markdown",
      "source": "## 8.1 Graph Type 1",
      "metadata": {}
    },
    {
      "cell_type": "markdown",
      "source": "## 8.2 Graph Type 2",
      "metadata": {}
    }
  ]
}