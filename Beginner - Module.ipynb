{
  "metadata": {
    "kernelspec": {
      "name": "python",
      "display_name": "Python (Pyodide)",
      "language": "python"
    },
    "language_info": {
      "codemirror_mode": {
        "name": "python",
        "version": 3
      },
      "file_extension": ".py",
      "mimetype": "text/x-python",
      "name": "python",
      "nbconvert_exporter": "python",
      "pygments_lexer": "ipython3",
      "version": "3.8"
    }
  },
  "nbformat_minor": 4,
  "nbformat": 4,
  "cells": [
    {
      "cell_type": "markdown",
      "source": "## 1.0 Getting Started\n\nThe goal of this program was to give you a way to interact with data that is taken from the sleep survey using python. This will allow you an easy introduction to coding and handling data in general. The Programming Language used in this document is Python. Python is one of the most used programming languages today. It is majorly favoured by the computer science community and generally anyone that deals with data sets.\n\nThrough using this program you will learn about the basics of using python and interacting with data sets.\n\nKeep in mind, one of the bugs with Jupyter and Pyplot integration is that it can only handle a certain number of graphs at once. This is why the graphs above the last executed cells disapear. You can make the graph reappear by simpling resizing the graph.",
      "metadata": {
        "vscode": {
          "languageId": "plaintext"
        }
      }
    },
    {
      "cell_type": "markdown",
      "source": "## 1.1 How to execute Code in Jupyter Lab\n\nAll of the code an text in Jupyter Lab is split into cells. These cells are executed seperately from each other in order as you proceed through the notebook. All of the contents of the previously executed cells are still available to new cells as you proceed through the notebook. To execute each cell in this file you need to hit (Shift + Enter).",
      "metadata": {}
    },
    {
      "cell_type": "markdown",
      "source": "## 1.2 Importing Modules\n\nImporting modules is the way python code access extra code that is not usable by default. This is usefull as it allows for extra code to be easily accessed in the current file without manually copying all of the relevent classes and functions into the file.\n\nThe modules used here are:\njson\nnumpy\npandas\nseaborn\ndatagraph.\nThese modules are essentailly what allows the code to create graphs and interact with the data.",
      "metadata": {}
    },
    {
      "cell_type": "code",
      "source": "#Enables the use of interactive graphs in JupyterLab\n%matplotlib widget \n\nimport numpy as np #Imports numpy: a third party module that handles numerical opperations\nimport pandas as pd #Imports pandas: a third party module that handles the reading of data (In our case the CSV file)\nimport json, re #Imports json: an inbuilt modules the reading of JSON files (Extracts the question text)\n\nfrom datagraph import Categorical, Other #Used to import the custom module that I Made that you will use to graph data",
      "metadata": {},
      "outputs": [],
      "execution_count": null
    },
    {
      "cell_type": "markdown",
      "source": "## 2.0 Reading JSON files and understanding datasets\n\nOne of the most important steps when first looking at a dataset is understanding what the numbers represent or how information is represented. You need to know if the data stored consists of numerical data or as a group of letters (Strings). If this step is not done, data may not be read in correctly. It can also lead to unimportant data being analised and the conslusions made useless.\n\ne.g If you analise a random set of numbers and find out what the mean and standard deviation are without knowing what those numbers represent that information is basically useless. While you may now know the characteristics of the data if you don't know how that translates in the real world what was the point of doing the analysis in the first place.\n\nIn our case the numbers can represent many things including:\n\nYour Gender\nHow Old You Are\nWhich Number Option You Chose To A Multichoice Question\nAny Many More\nTo gain a better understanding of the data it is recommended that you go to the following link and generate some graphs. https://learn.pawsey.org.au/data/sleep/graphs",
      "metadata": {}
    },
    {
      "cell_type": "markdown",
      "source": "## 2.1 Unclean Datasets\n\nAn important step to processing data is making sure it is clean. In the sleep survey people are not required to do all of the seperate sections of the survey. This means that for some columns in the data may have blank cells that contain no data for specific questions. If this possible no answer is not taken into account it could affect statistics drawn from the data. e.g It could drop the average of an answer drastically.\n\nAnother common problem with the dataset collected is that some answers can be wrong or an outlier. e.g Someone on this survey has answered their age as 200 years old. If this data is not excluded or dealt with it could drastically affect the results drawn from that questions answers.",
      "metadata": {}
    },
    {
      "cell_type": "markdown",
      "source": "## 2.3 Applying this information\n\nA common way that this informatiom is stored on websites is in JSON files. The JSON files we are reading 'sleep.jsonc' esentailly contains all of the all of the information that was used to create the sleep questionair that you have filled out.\n\nUnder the code cell below you will see two different outputs. The two groups shown below, surounded by curly brackets {}, contain what is know as a dictionary of all of the questions and fields in the sleep.jsonc file. You will notice that each small section of data first has a group of characters (Strings) contained in 'single quotation marks' and then has a collon : with data following that. The first group surounded by, ' ', with a question mark at the end is the question and the second part after the collon, :, is what fields the data will be in.\n\nIn the small exert below 'What is your gender' is the question asked and ['Male', 'Female', 'Non-binary' and 'Prefer not to say'] are the possible otions the user can select. 'How often do I go to bed and worry about things happening at home or at school?' is again the question with ['Never', 'Once in a while', 'Sometimes', 'Quite often', 'Frequently if not always', 'Always'] being the possible choices in the quiz.\n\n{'What is your gender?': ['Male', 'Female', 'Non-binary', 'Prefer not to say'], ..., 'How often do I go to bed and worry about things happening at home or at school?': ['Never', 'Once in a while', 'Sometimes', 'Quite often', 'Frequently if not always', 'Always']}\n\nIt is important that you can fild exactly how the questions are written as you will need this to access the surveys' data later.",
      "metadata": {}
    },
    {
      "cell_type": "markdown",
      "source": "## 2.4 Reading in Survey Question Text\n\nLets read in the JSON file and extract the questions from it.\nThe Two Groups of data printed below the code contain all of the questions in the survey. The first group of text is all of the categorical graph questions and labels that are stored in the sleep.jsonc file. The second group of text shows all of the non-categorical question data.",
      "metadata": {}
    },
    {
      "cell_type": "code",
      "source": "# https://stackoverflow.com/questions/46317639/how-can-i-handle-reading-a-json-file-in-it-that-has-comments-with-python/46317842\n# https://docs.python.org/3/tutorial/inputoutput.html\n\nwith open('sleep.jsonc', 'r') as f: #Opens the sleep.jsonc file, reads its contents and stored the dat as s\n    s = f.read()\ns = str(s) #converts 's' to a string\n\njsonObject = json.loads(re.sub(\"//.*\",\"\",s,flags=re.MULTILINE)) #this is a little complicated. This essentially creates an object representation of a JSON file in the code. \n#It also uses regular expressions to change the jsonc (JSON file with c style comments) to a standard JSON file format by removing all the comments.\n# print(jsonObject)\n\n# print(jsonObject['questions'])\ncategorical_labels = {} #Dictionary created for storing categorical questions\nother_labels = {} #Dictionary created for storing other types of questions\n\nfor i in jsonObject['questions']: #This loop actually reads in the question text data.\n    try: \n        # print(f' {i[\"text\"]}: {i[\"values\"]}')\n        if isinstance(i[\"values\"][0], dict): # If the current object is of type dictionary the data is Categorical.\n            tlist = []\n            for j in i[\"values\"]:\n                tlist.append(j[\"label\"])\n            categorical_labels[i[\"text\"]] = tlist #Adds the question text to a new dictionary\n        else:   # If the object is not a dictionary then it must not be categorical.\n            categorical_labels[i[\"text\"]] = i[\"values\"]\n    except:\n        other_labels[i[\"text\"]] = i[\"type\"]\n        pass\n#Want the Values column for each question if it exists\nprint(categorical_labels)\nprint(len(categorical_labels))\nprint(f\"\\n\\n{other_labels}\")\nprint(len(other_labels))",
      "metadata": {},
      "outputs": [],
      "execution_count": null
    },
    {
      "cell_type": "markdown",
      "source": "## 2.5 Reading in Survey Data from CSV File\n\nCSV, Comma-Separated-Values files are a common file type that is used to store data. The file is of a format where each seperate piece of data is seperated by a comma. This format allows for each seperate piece of data to be extracted easily by the computer.\nThe code bellow uses a module called pandas to read all of the files from the surveydata.csv file. This data is stored in a variable called s_data. Bellow the code you can see that data that is being imported in a chart. The question titles can be seen in bold at the top of the chart.",
      "metadata": {}
    },
    {
      "cell_type": "code",
      "source": "s_data = pd.read_csv('surveydata.csv') #A Function in pandas that reads in CSV files and creates a dataFrame or a data Series.\ns_data #Prints the dataFrame to the window",
      "metadata": {},
      "outputs": [],
      "execution_count": null
    },
    {
      "cell_type": "markdown",
      "source": "## 3.0 Accessing and Manipulating Data\n\nAll of the data will now be accessed by using the s_data variable. This is where knowing the exact questions asked in the survey is important. To acess the data contained in columns of the data above you need to use the following code: s_data['question'], where question in the question that you want the data from.\n\nFor example:\ndata = s_data['In which city are you currently located?']\n\ndata = s_data['How old are you?']\n\nIn the following two blocks you can see what this looks like. Feel free to change the question text contained in the [] bellow to see what other field of data look like.",
      "metadata": {}
    },
    {
      "cell_type": "code",
      "source": "data = s_data['In which city are you currently located?'] #Gets the relevent data for the question\ndata #Prints Out The Series",
      "metadata": {},
      "outputs": [],
      "execution_count": null
    },
    {
      "cell_type": "code",
      "source": "data = s_data['How old are you?'] #Gets the relevent data for the question\ndata #Prints Out The Series",
      "metadata": {},
      "outputs": [],
      "execution_count": null
    },
    {
      "cell_type": "markdown",
      "source": "## 3.1 Cleaning and Chaning data into required format for graphing\n\nCurrently the data is in the wrong data type for it to be graphed using the methods in the datagraph module. Another Problem you might come across is some data may contain Nan values. This is the module numpys' way of saying their was no data entered. To get rid of these nan values and change the data into the format we want we need to run the following code.\n[INSERT WHY WRONG DATA TYPE]",
      "metadata": {}
    },
    {
      "cell_type": "code",
      "source": "m_data = data.dropna() #Removes any Nan Values\nm_data = m_data.to_numpy() #Changes the pandas Series object to a Numpy List\nm_data = m_data.tolist() #Changes the Numpy list to a python list.\n#This can also be written like this\n#m_data = data.dropna().to_numpy().tolist()\nm_data[-9:]",
      "metadata": {},
      "outputs": [],
      "execution_count": null
    },
    {
      "cell_type": "markdown",
      "source": "## 4.0 What are functions, arguments and keyword arguments",
      "metadata": {}
    },
    {
      "cell_type": "markdown",
      "source": "Each of the methods used in both the Graph and the Categorical Class require the entering of data by keyword arguments. Keyword arguments are values that are passed into methods by name. e.g In the following piece of code data is the keyword and frequency is the passed argument. To find information about any module the first place you should check is the documentation. This small exert of the documentation shows the default keyword arguments for the Categorical object.\n\nThe datagraph module has two main classes that you will be interacting with are Categorical and Other. The Categorical class allows you to produce categorical graphs. Likewise, the Other class allows the generation of all the other types of graph the datagraph module has. Below this block an example of how to produce each type of graph is shown.\n\nclass datagraph.graphCategorical(labels=None, **kwargs)\n\nCategorical graph class inherits all if the graphs class' attributes and methods and enables the graphing of categorical data. The attributes of the class should never be directly assessed. They should instead be updated through the update_vars() method and accessed through the get functions.\n\nThe parameters are the follwing:\n- labels: stores the labels use to name the different classes of data\n- kwargs: stores the input data graph defaults to [None]\n\nThe keywords are the following:\n- data_y: stores the y-axis data to graph defaults to [None]\n- data_x: stores the x-axis data to graph defaults to [None]\n- title_y: stores the y-axis title defaults to [\"\"]\n- title_x: stores the x-axis title defaults to [\"\"]\n- title_main: stores the main tile for the graphs default to [\"\"]\n\nThe function returns a Categorial Object and the return type is return",
      "metadata": {}
    },
    {
      "cell_type": "markdown",
      "source": "## 5.0 Creating your first categorical object\n\nAs seen above, the Categorical object takes six optional keyword arguments. While entering the keyword arguments when creating the Categorical object is not required, it is recommended as it allows you to call all of the types of graphs in this object without needing to enter the keyword arguments again. Bellow you will see how to create your first Categorical object. One thing you may notice is that each seperate variable you are passing through is defined outside of creating the object. This practise, while not necessary, is a good practice as it makes it easier to read and debug your code if something goes wrong.\n",
      "metadata": {}
    },
    {
      "cell_type": "code",
      "source": "#Step 1 Localise the data\ntitle_data = 'If you compare yourself to other people your age, how would you describe your health?' #Sets the title as a variable\ndata_bar = s_data[title_data] #This is the data that is going to be entered into the graph\nfrequency = data_bar.value_counts(sort=False) #Extracts the frequncy of responses per category as a list\nfrequency = frequency.sort_index(ascending=True) #Sorts the list so that the numbers are ascending\nfrequency = frequency.dropna().to_numpy().tolist() #Removes Nan varaibles and converts to a python list (As explained above)\nypos =  np.arange(len(frequency)) #Automatically assigns indexs for each number in the data\nlabels = categorical_labels[title_data] #Gets the relevent lables for each graph.\n\n#Creating the Categorical Object with the data created above\nc = Categorical(data=frequency, title_main=title_data, labels=labels , title_x = \"Amount\", title_y=\"Criteria\") ",
      "metadata": {},
      "outputs": [],
      "execution_count": null
    },
    {
      "cell_type": "markdown",
      "source": "## 6.0 Graphing a bar and pie chart\n\nAs always, the first step when using a function that you dont know how to use is looking it up in the documentation.\n\nYou might notice that you can enter the same keyword arguments as when you created the Categorical object. Again these are not required if you have entered the required information, in this case only the **data** keyword argument. If you have already entered all of the neccesarry information when creating the categorical object then all you have to do to create a graph is call the relevent method attached to the object.\n\n>c.graph_bar()\n>\n>c.graph_pie()\n\nAll of the other graph methods will have a documentation page that looks similar to this the one above. The variable names that you are to use follow keyword:.\n\nE.g keyword: data, which is used to change the data in the graph. This can be done through the graph method by using it as a keyword argument. e.g c.graph_bar(data=[]).\nIf you want to enter new data when creating the graph, all you have to do is use the relevent keywords. You may also notice that the third graph does not have any titles. This is because we haven't entered any title texts. While you can create a graph with the minimum field of only the data, it is recommended that you add all of the other fields.",
      "metadata": {}
    },
    {
      "cell_type": "code",
      "source": "#This allows us to create multiple types of graphs without needing to enter all of the different keyword arguments again.\nc.graph_bar() #Creates a Bar Graph\nc.graph_pie() #Creates a Pie Graph\n\n\ntemp = s_data[title_data].dropna().to_numpy().tolist() #Cleaning the data and converting the a python list\n\ntemp[:30]\ng = Categorical() #Creating a Categorical object with defaut attributes\ng.graph_bar(data=temp[:30]) #Creating a bar graph with the minimum required attributes",
      "metadata": {},
      "outputs": [],
      "execution_count": null
    },
    {
      "cell_type": "markdown",
      "source": "The graph above is an example of how a graph with no titles is useless.",
      "metadata": {}
    },
    {
      "cell_type": "markdown",
      "source": "## 8.0 Using other Graphs\n\nWhen graphing data, wehave to consider when graphing data is what each type of graph displays. A Lolipop graph should only really be used when there is les then 100 data points. While this graph is usefull other graphs may be better of understanding this data.\n\n[INSERt MORE INFORMATION ON WHEN TO USE WHICH GRPAPH]",
      "metadata": {}
    },
    {
      "cell_type": "markdown",
      "source": "## 8.1 Graphing a box plot",
      "metadata": {}
    },
    {
      "cell_type": "markdown",
      "source": "graph_box(**kwargs) generates a box plot using a combination of the data entered and the pre-set attributes of the Categorical Class. This method will call the update_vars() method with kwargs as the input.\n\nThe parameters are:\n- kwargs: stores the input data to graph defaults to [None]\n\nThe keywords are:\n- title_x: stores the x-axis title defaults to [self.title_x] or [\"\"]\n- title_y: stores the y-axis title defaults to [self.title_y] or [\"\"]\n- title_main: defaults to [self.title_main] or [\"\"]\n\nThe function does not return anything.\n",
      "metadata": {}
    },
    {
      "cell_type": "code",
      "source": "frequency = s_data['How old are you?']\n\noth = Other(title_main=title_data, data=frequency)\noth.graph_box(title_main=\"Boxplot Of The Age Of People Taking This Survey\")",
      "metadata": {},
      "outputs": [],
      "execution_count": null
    },
    {
      "cell_type": "markdown",
      "source": "Warning: (data) needs to be of type list. Please check if the entered data is of the right format. when printed, it should be surrounded by '[]' and type('data') should return 'list'",
      "metadata": {}
    },
    {
      "cell_type": "markdown",
      "source": "## 8.2 Examples of messy data\n\nAbove here is a perfect example of how data can be messy. There is one person on this chart that has entered their age as 200 years old. This is the sort of thing you have to account for when dealing with data sets. The Graph Below Removes any data entry that is over 200 years old using list comprehension. The code in the cell bellow filters out anyone that is over 50 years old.",
      "metadata": {}
    },
    {
      "cell_type": "code",
      "source": "nfreq = [x for x in frequency if x <= 50] #This is done by using list comprehension. Change the 50 to change what age is filtered out.\nnfreq[:20]\noth.graph_box(data=nfreq, title_x=\"Age of Person (Years)\")",
      "metadata": {},
      "outputs": [],
      "execution_count": null
    },
    {
      "cell_type": "markdown",
      "source": "## 8.4 Creating a Scatter Graph\n\ngraph_scatter(**kwargs) generates a scatter graph using a combination of the data entered and the pre-set attributes of the Categorical Clas. This method will call the update_vars() method with kwargs as the input.\n\nThe parameters are:\n- kwargs: kwargs: stores the input data to graph defaults to [None]\n- data_y: stores the y-axis data to graph default to [self.data_y] or [None]\n- data_x: stores the x-axis data to graph default to [self.data_x] or [None]\n- title_x: stores the x-axis title defaults to [self.title_x] or [None]\n- title_y: stores the y-axis title defaults to [self.title_y] or [None]\n- title_main: stores the main title for the graphs defaults to [self.title_main] or [\"\"]\n",
      "metadata": {}
    },
    {
      "cell_type": "markdown",
      "source": "## 8.4. Example of what can go wrong\n\nDon't worry about the error that you receive below this is meant to be displayed.\nWhen you do something wrong in this module you will get an error with multiple Warnings written above them. Read what the Warnnings say and this is probably the reason why nothing was graphed. In this case the two Warnings are:\n\n>Warning: No Data Has Been Entered Into (data_x). Please check that data was entered when creating the graph object or creating a graph\n>\n>Warning: No Data Has Been Entered Into (data_y). Please check that data was entered when creating the graph object or creating a graph\n\nThis is alerting you to the fact that you are tying to graph a Scatterplot without entering data into it first.",
      "metadata": {}
    },
    {
      "cell_type": "code",
      "source": "oth.graph_scatter()",
      "metadata": {},
      "outputs": [],
      "execution_count": null
    },
    {
      "cell_type": "markdown",
      "source": "## 8.4.2 To fix the error\n\nTo fix the error we just need to enter the data that was missed. This is shown in the code below.",
      "metadata": {}
    },
    {
      "cell_type": "code",
      "source": "data_x = s_data['What time do you try to go to sleep?'].dropna().to_numpy().tolist()\ndata_y = s_data['How old are you?'].dropna().to_numpy().tolist()\ntitle_main = \"What Time Do You Try To Go To Sleep VS How Old Are You?\"\noth.graph_scatter(data_x=data_x, data_y=data_y, title_main=title_main, title_x=\"What Time Do You Try To Go To Sleep (Hours)\", title_y=\"Age (Years)\")",
      "metadata": {},
      "outputs": [],
      "execution_count": null
    },
    {
      "cell_type": "markdown",
      "source": "## 8.5 Density Graphs\n\ngraph_density(fill=False, **kwargs) generates a density plot using a combination of the data entered and the pre-set attributes of the Categorical class. This method will call the update_vars() method with kwargs as the input.\n\nThe parameters are:\n- fill: determins if the graph is shaded in defaults to [False]\n- kwargs: stores the input data to graph defaults to [None]\n- title_x: stores the x-axis title defauts to [self.title_x] or [\"\"]\n- title_y: stores the y-axis title defaults to [self.title_y] or [\"\"]\n- title_main: defaults to [self.title_main] or [\"\"]\nThe fuction does not return anything.\n\nHere you may notice there is an extra parameter that the other graphs don't have. This variable controlls whether the area under the line is shaded or not. Below You can see two graphs, one with the graph unshaded and the other with it shaded,",
      "metadata": {}
    },
    {
      "cell_type": "code",
      "source": "oth.graph_density(title_y=\"Density of Peoples Age\")\noth.graph_density(fill=True)",
      "metadata": {},
      "outputs": [],
      "execution_count": null
    },
    {
      "cell_type": "markdown",
      "source": "## 11.0 Create your own graphs!",
      "metadata": {}
    },
    {
      "cell_type": "markdown",
      "source": "Now its time to create your own graphs!",
      "metadata": {}
    },
    {
      "cell_type": "code",
      "source": "",
      "metadata": {},
      "outputs": [],
      "execution_count": null
    },
    {
      "cell_type": "code",
      "source": "",
      "metadata": {},
      "outputs": [],
      "execution_count": null
    }
  ]
}